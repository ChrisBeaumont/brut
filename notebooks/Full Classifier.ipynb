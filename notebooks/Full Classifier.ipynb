{
 "metadata": {
  "name": "Full Classifier"
 },
 "nbformat": 3,
 "nbformat_minor": 0,
 "worksheets": [
  {
   "cells": [
    {
     "cell_type": "markdown",
     "metadata": {},
     "source": [
      "# Building a Complete Classifier\n",
      "\n",
      "This notebook constructs 3 classifiers, trained on non-overlapping subsets of the data,\n",
      "and builds a `ModelGroup` suitable for classifying alll the data"
     ]
    },
    {
     "cell_type": "code",
     "collapsed": false,
     "input": [
      "%pylab\n",
      "\n",
      "import json\n",
      "import random\n",
      "import itertools\n",
      "import os\n",
      "import sys\n",
      "\n",
      "import numpy as np\n",
      "from sklearn.metrics import auc_score\n",
      "from sklearn.utils import resample\n",
      "\n",
      "from bubbly.wiserf import WiseRF\n",
      "from bubbly.extractors import MultiViewExtractor, ManyManyExtractors\n",
      "from bubbly.util import roc_curve\n",
      "from bubbly.dr1 import WideLocationGenerator, highest_quality_on_params\n",
      "from bubbly.model import Model\n"
     ],
     "language": "python",
     "metadata": {},
     "outputs": [
      {
       "output_type": "stream",
       "stream": "stdout",
       "text": [
        "\n",
        "Welcome to pylab, a matplotlib-based Python environment [backend: module://IPython.kernel.zmq.pylab.backend_inline].\n",
        "For more information, type 'help(pylab)'.\n"
       ]
      },
      {
       "output_type": "stream",
       "stream": "stderr",
       "text": [
        "/Users/beaumont/Library/Python/2.7/lib/python/site-packages/pytz/__init__.py:35: UserWarning: Module argparse was already imported from /opt/local/Library/Frameworks/Python.framework/Versions/2.7/lib/python2.7/argparse.pyc, but /Users/beaumont/Library/Python/2.7/lib/python/site-packages is being added to sys.path\n",
        "  from pkg_resources import resource_stream\n"
       ]
      }
     ],
     "prompt_number": 1
    },
    {
     "cell_type": "code",
     "collapsed": false,
     "input": [
      "#XXX Do these need to be re-optimized, potentially for each of the 3 models separately?\n",
      "best_params = {'max_features': 'auto', 'min_samples_split': 4, 'n_jobs': 2, 'criterion': 'infogain', 'n_estimators': 800}"
     ],
     "language": "python",
     "metadata": {},
     "outputs": [],
     "prompt_number": 2
    },
    {
     "cell_type": "code",
     "collapsed": false,
     "input": [
      "data = json.load(open('../models/bootstrapped_labels_targeted.json'))\n",
      "lgs = [WideLocationGenerator(mod3=i) for i in [0, 1, 2]]\n",
      "\n",
      "pos = [filter(lambda x: l.valid_longitude(x[0]), data['on_params']) for l in lgs]\n",
      "neg = [filter(lambda x: l.valid_longitude(x[0]), data['off_params']) for l in lgs]\n",
      "\n",
      "#randomly subset negative examples, to balance\n",
      "neg = [random.sample(n, len(p)) for n, p in zip(neg, pos)]\n",
      "\n",
      "#sort by longitude, to minimize IO\n",
      "for i in range(3):\n",
      "    pos[i] = sorted(pos[i])\n",
      "    neg[i] = sorted(neg[i])\n",
      "    \n",
      "ex = MultiViewExtractor(ManyManyExtractors())\n",
      "ex.shp = (60, 60)\n",
      "\n",
      "# sanity check\n",
      "# assert that the trainin data are non-overlapping\n",
      "mods = [np.array(np.hstack((p, n)))[:, 1] % 3 for p, n in zip(pos, neg)]\n",
      "assert ((mods[0] >= 0.5) & (mods[0] <= 2.5)).all()\n",
      "assert ((mods[1] <= 0.5) | (mods[1] >= 1.5)).all()\n",
      "assert ((mods[2] >= 1.5) | (mods[2] <= 2.5)).all()"
     ],
     "language": "python",
     "metadata": {},
     "outputs": [],
     "prompt_number": 3
    },
    {
     "cell_type": "code",
     "collapsed": false,
     "input": [
      "#concerns\n",
      "# our previous hyperparameter optimization may have overfit the entire + dataset\n",
      "# training data may not be as informative as old data\n",
      "# we need a new hyperparameter optimization for the new dataset\n",
      "\n",
      "#setup:\n",
      "#   vectors for all data in data\n",
      "#   3 strategies for sampling - labels\n",
      "#   hyperoptimize, hiding 1/3 of validation +\n",
      "#   assess over-fit optimization\n",
      "#   compare to previous results\n",
      "#   if that comparison is bad, re-do using all + examples. If *that* looks good, we've over optimized\n",
      "xs = {}\n",
      "for key in ['on_params', 'off_params']:\n",
      "    xs[key] = np.vstack(ex.extract(*row) for row in data[key]) \n",
      "\n",
      "    \n",
      "#XXX nope, need CV data to be *uniformly* sampled    \n",
      "def filter_data(locator):    \n",
      "    on = np.array([locator.valid_longitude(x[0]) for x in data['on_params']])\n",
      "    off = np.array([locator.valid_longitude(x[0]) for x in data['off_params']])\n",
      "\n",
      "    cvon = np.array([not locator.valid_longitude(x[0]) for x in data['on_params']])\n",
      "    cvoff = np.array([not locator.valid_longitude(x[0]) for x in data['off_params']])\n",
      "    \n",
      "    return xs['on_params'][on], xs['off_params'][off], xs['on_params'][cvon], xs['on_params'][cvoff]\n",
      "\n",
      "def sample_negatives(strategy):\n",
      "\n",
      "    \n",
      "def training_data(locator, strategy):\n",
      "    pass\n",
      "\n",
      "def validation_data(locator):\n",
      "    \n",
      "len(data['off_params'])"
     ],
     "language": "python",
     "metadata": {},
     "outputs": [
      {
       "metadata": {},
       "output_type": "pyout",
       "prompt_number": 38,
       "text": [
        "20000"
       ]
      }
     ],
     "prompt_number": 38
    },
    {
     "cell_type": "code",
     "collapsed": false,
     "input": [
      "models = [Model(ex, lg, WiseRF(**best_params)).fit(on, off) \n",
      "          for lg, on, off in zip(lgs, pos, neg)]"
     ],
     "language": "python",
     "metadata": {},
     "outputs": [
      {
       "output_type": "stream",
       "stream": "stdout",
       "text": [
        "WARNING: Non-finite values in feature vectors. Fixing [bubbly.model]\n"
       ]
      }
     ],
     "prompt_number": 4
    },
    {
     "cell_type": "markdown",
     "metadata": {},
     "source": [
      "### Save"
     ]
    },
    {
     "cell_type": "code",
     "collapsed": false,
     "input": [
      "from bubbly.model import ModelGroup\n",
      "import cPickle as pickle\n",
      "\n",
      "gm = ModelGroup(*models)\n",
      "with open('../models/full_classifier.pkl', 'w') as outfile:\n",
      "    pickle.dump(gm, outfile)"
     ],
     "language": "python",
     "metadata": {},
     "outputs": [],
     "prompt_number": 10
    },
    {
     "cell_type": "markdown",
     "metadata": {},
     "source": [
      "## Checking Classification Quality"
     ]
    },
    {
     "cell_type": "code",
     "collapsed": false,
     "input": [
      "cv_data = json.load(open('../models/bootstrapped_labels_unbiased.json'))\n",
      "\n",
      "cv_pos = [filter(lambda x: not l.valid_longitude(x[0]), cv_data['on_params']) for l in lgs]\n",
      "cv_neg = [filter(lambda x: not l.valid_longitude(x[0]), cv_data['off_params']) for l in lgs]\n",
      "cv_neg[-1] = cv_neg[-1][:10000]\n",
      "\n",
      "#sort to minimize io\n",
      "cv_pos = [sorted(c) for c in cv_pos]\n",
      "cv_neg = [sorted(c) for c in cv_neg]\n",
      "\n",
      "cv = [n + p for n, p in zip(cv_neg, cv_pos)]\n",
      "cvy = [np.hstack((np.zeros(len(n), dtype=np.int), \n",
      "                  np.ones(len(p), dtype=np.int)))\n",
      "       for n, p in zip(cv_neg, cv_pos)]"
     ],
     "language": "python",
     "metadata": {},
     "outputs": [],
     "prompt_number": 31
    },
    {
     "cell_type": "code",
     "collapsed": false,
     "input": [
      "dfs = [m.cloud_decision_function(c, workers=30) for m, c in zip(models, cv)]"
     ],
     "language": "python",
     "metadata": {},
     "outputs": [],
     "prompt_number": 32
    },
    {
     "cell_type": "code",
     "collapsed": false,
     "input": [
      "from bubbly.util import roc_curve\n",
      "\n",
      "colors = ['#1B9E77', '#D95F02', '#7570B3']\n",
      "for i, (y, yp, c) in enumerate(zip(cvy, dfs, colors)):\n",
      "    roc_curve(y, yp, lw=3, color=c, label='mod %i' % i)\n",
      "  \n",
      "legend(loc='lower right')\n",
      "xlim(0, .002)"
     ],
     "language": "python",
     "metadata": {},
     "outputs": [
      {
       "metadata": {},
       "output_type": "pyout",
       "prompt_number": 37,
       "text": [
        "(0, 0.002)"
       ]
      },
      {
       "metadata": {},
       "output_type": "display_data",
       "png": "[encoded data removed]",
       "text": [
        "<matplotlib.figure.Figure at 0x11c84e950>"
       ]
      }
     ],
     "prompt_number": 37
    },
    {
     "cell_type": "heading",
     "level": 3,
     "metadata": {},
     "source": []
    }
   ],
   "metadata": {}
  }
 ]
}