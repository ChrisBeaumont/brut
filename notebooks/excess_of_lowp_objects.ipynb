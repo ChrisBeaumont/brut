{
 "metadata": {
  "name": ""
 },
 "nbformat": 3,
 "nbformat_minor": 0,
 "worksheets": [
  {
   "cells": [
    {
     "cell_type": "code",
     "collapsed": false,
     "input": [
      "%matplotlib inline\n",
      "\n",
      "import json\n",
      "import matplotlib.pyplot as plt\n",
      "import numpy as np\n",
      "import pandas as pd\n",
      "import matplotlib\n",
      "from scipy.stats import ks_2samp\n",
      "\n",
      "matplotlib.rcParams['axes.grid'] = False\n",
      "matplotlib.rcParams['axes.facecolor'] = 'white'\n",
      "matplotlib.rcParams['font.size'] = 13\n",
      "figures = {}"
     ],
     "language": "python",
     "metadata": {},
     "outputs": [],
     "prompt_number": 9
    },
    {
     "cell_type": "code",
     "collapsed": false,
     "input": [
      "data = pd.read_csv('../data/pdr1.csv')\n",
      "data.lon[data.lon > 270] = data.lon - 360\n",
      "data['diam'] = 2 * np.sqrt(data.a * data.b)"
     ],
     "language": "python",
     "metadata": {},
     "outputs": [],
     "prompt_number": 11
    },
    {
     "cell_type": "code",
     "collapsed": false,
     "input": [
      "low = data[data.prob < .5]\n",
      "mid = data[(data.prob >= .5) & (data.prob < .8)]\n",
      "hi = data[data.prob >= .8]\n",
      "\n",
      "nlow = data[~(data.prob < .5)]\n",
      "nmid = data[~((data.prob >= .5) & (data.prob < .8))]\n",
      "nhi = data[~(data.prob >= .8)]              "
     ],
     "language": "python",
     "metadata": {},
     "outputs": [],
     "prompt_number": 12
    },
    {
     "cell_type": "code",
     "collapsed": false,
     "input": [
      "from bubbly.viewer import BubblyViewer"
     ],
     "language": "python",
     "metadata": {},
     "outputs": [],
     "prompt_number": 1
    },
    {
     "cell_type": "code",
     "collapsed": false,
     "input": [
      "bv = BubblyViewer()"
     ],
     "language": "python",
     "metadata": {},
     "outputs": [],
     "prompt_number": 2
    },
    {
     "cell_type": "code",
     "collapsed": false,
     "input": [
      "bv.load_longitude(317)"
     ],
     "language": "python",
     "metadata": {},
     "outputs": [],
     "prompt_number": 37
    },
    {
     "cell_type": "code",
     "collapsed": false,
     "input": [
      "low_params = low[['lon', 'lon', 'lat', 'diam']].values\n",
      "hi_params = hi[['lon', 'lon', 'lat', 'diam']].values\n",
      "mid_params = mid[['lon', 'lon', 'lat', 'diam']].values"
     ],
     "language": "python",
     "metadata": {},
     "outputs": [],
     "prompt_number": 27
    },
    {
     "cell_type": "code",
     "collapsed": false,
     "input": [
      "bv.clear()\n",
      "bv.outline(low_params, color='#D95F02')\n",
      "bv.outline(mid_params, color='#E6AB02')\n",
      "bv.outline(hi_params, color='#7570B3')"
     ],
     "language": "python",
     "metadata": {},
     "outputs": [],
     "prompt_number": 38
    },
    {
     "cell_type": "code",
     "collapsed": false,
     "input": [],
     "language": "python",
     "metadata": {},
     "outputs": [],
     "prompt_number": 22
    },
    {
     "cell_type": "code",
     "collapsed": false,
     "input": [],
     "language": "python",
     "metadata": {},
     "outputs": [],
     "prompt_number": 28
    },
    {
     "cell_type": "code",
     "collapsed": false,
     "input": [],
     "language": "python",
     "metadata": {},
     "outputs": []
    }
   ],
   "metadata": {}
  }
 ]
}